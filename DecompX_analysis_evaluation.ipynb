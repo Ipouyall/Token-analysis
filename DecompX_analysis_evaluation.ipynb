{
 "cells": [
  {
   "cell_type": "code",
   "execution_count": 30,
   "metadata": {
    "collapsed": true,
    "ExecuteTime": {
     "end_time": "2023-09-27T11:24:41.646613Z",
     "start_time": "2023-09-27T11:24:41.612005Z"
    }
   },
   "outputs": [],
   "source": [
    "import string\n",
    "\n",
    "import pandas as pd\n",
    "import seaborn as sns\n",
    "import matplotlib.pyplot as plt\n",
    "from wordcloud import WordCloud\n",
    "import numpy as np\n",
    "import os"
   ]
  },
  {
   "cell_type": "markdown",
   "source": [
    "# Utils"
   ],
   "metadata": {
    "collapsed": false
   }
  },
  {
   "cell_type": "code",
   "execution_count": 31,
   "outputs": [],
   "source": [
    "def find_files(path, ext):\n",
    "    files = []\n",
    "    for file in os.listdir(path):\n",
    "        if file.endswith(ext):\n",
    "            files.append(file)\n",
    "    return files"
   ],
   "metadata": {
    "collapsed": false,
    "ExecuteTime": {
     "end_time": "2023-09-27T11:24:41.648461Z",
     "start_time": "2023-09-27T11:24:41.619186Z"
    }
   }
  },
  {
   "cell_type": "code",
   "execution_count": 32,
   "outputs": [],
   "source": [
    "from typing import Iterable, Union\n",
    "\n",
    "def get_most_impacting(report: dict, n=2):\n",
    "    \"\"\"\n",
    "    Get the most impacting tokens from experiments.\n",
    "\n",
    "    Args:\n",
    "        report (dict): The input dictionary containing experiment data >> dict_keys(['idx', 'tokens', 'importance', 'logits', 'predicted_label', 'true_label'])\n",
    "        n (int, optional): The number of tokens to consider. Defaults to 2.\n",
    "\n",
    "    Returns:\n",
    "        dict: A dictionary containing analysis results.\n",
    "    \"\"\"\n",
    "    _report = {\n",
    "        \"predict\": dict(),\n",
    "        \"true\": dict(),\n",
    "        \"at_all\": dict(),\n",
    "    }\n",
    "    for pred, true, importance, tokens in zip(\n",
    "        report[\"predicted_label\"],\n",
    "        report[\"true_label\"],\n",
    "        report[\"importance\"],\n",
    "        report[\"tokens\"]\n",
    "    ):\n",
    "\n",
    "        _iter_pred = zip(np.array(tokens), importance[pred])\n",
    "        data_pred = sorted([(token, importance) for token, importance in _iter_pred],\n",
    "                           key= lambda x: x[1],\n",
    "                           reverse=True)\n",
    "        data_pred = data_pred[:n]\n",
    "\n",
    "        if pred==true:\n",
    "            data_true = data_pred.copy()\n",
    "            data_all = data_pred.copy()\n",
    "        else:\n",
    "            _iter_true = zip(np.array(tokens), importance[true])\n",
    "            data_true = sorted([(token, importance) for token, importance in _iter_true],\n",
    "                               key= lambda x: x[1],\n",
    "                               reverse=True)\n",
    "            data_true = data_true[:n]\n",
    "\n",
    "            data_all = sorted(data_true + data_pred,\n",
    "                              key= lambda x: x[1],\n",
    "                              reverse=True)\n",
    "            data_all = data_all[:n]\n",
    "\n",
    "        for p, t, a in zip(data_pred, data_true, data_all):\n",
    "            if p[1] > 0:\n",
    "                _report[\"predict\"][p[0]] = _report[\"predict\"].get(p[0], 0) + p[1]\n",
    "            if t[1] > 0:\n",
    "                _report[\"true\"][t[0]] = _report[\"true\"].get(t[0], 0) + t[1]\n",
    "            if a[1] > 0:\n",
    "                _report[\"at_all\"][a[0]] = _report[\"at_all\"].get(a[0], 0) + a[1]\n",
    "            \n",
    "    return {\n",
    "        \"predict\": sorted(_report[\"predict\"].items(), key=lambda x: x[1], reverse=True)[:n],\n",
    "        \"true\": sorted(_report[\"true\"].items(), key=lambda x: x[1], reverse=True)[:n],\n",
    "        \"at_all\": sorted(_report[\"at_all\"].items(), key=lambda x: x[1], reverse=True)[:n],\n",
    "    }\n",
    "\n",
    "\n",
    "def get_importance(report: dict, d_tokens: Iterable):\n",
    "    _report = {}\n",
    "    for dt in d_tokens:\n",
    "        _report[dt] = {\n",
    "            \"tp\": list(),\n",
    "            \"tn\": list(),\n",
    "            \"fp\": list(),\n",
    "            \"fn\": list(),\n",
    "            \"pl\": list(),\n",
    "            \"nl\": list(),\n",
    "        }\n",
    "    for pred, true, importance, tokens in zip(\n",
    "        report[\"predicted_label\"],\n",
    "        report[\"true_label\"],\n",
    "        report[\"importance\"],\n",
    "        report[\"tokens\"]\n",
    "    ):\n",
    "        for token, importance in zip(tokens, importance):\n",
    "            token = token.replace('##', '').replace('Ġ', '')\n",
    "            for dt in d_tokens:\n",
    "                if dt == token:\n",
    "                    _report[dt][\"pl\"].append(importance[1])\n",
    "                    _report[dt][\"nl\"].append(importance[0])\n",
    "\n",
    "            if pred==true:\n",
    "                if pred > 0:\n",
    "                    for dt in d_tokens:\n",
    "                        if dt == token:\n",
    "                            _report[dt][\"tp\"].append(importance[1])\n",
    "                else:\n",
    "                    for dt in d_tokens:\n",
    "                        if dt == token:\n",
    "                            _report[dt][\"tn\"].append(importance[0])\n",
    "            else:\n",
    "                if pred > 0:\n",
    "                    for dt in d_tokens:\n",
    "                        if dt == token:\n",
    "                            _report[dt][\"fp\"].append(importance[1])\n",
    "                else:\n",
    "                    for dt in d_tokens:\n",
    "                        if dt == token:\n",
    "                            _report[dt][\"fn\"].append(importance[0])\n",
    "\n",
    "    return _report"
   ],
   "metadata": {
    "collapsed": false,
    "ExecuteTime": {
     "end_time": "2023-09-27T11:24:41.690701Z",
     "start_time": "2023-09-27T11:24:41.633283Z"
    }
   }
  },
  {
   "cell_type": "code",
   "execution_count": 33,
   "outputs": [],
   "source": [
    "def get_importance_all(report: dict, metric_function=np.mean, split=True):\n",
    "    _report = {}\n",
    "\n",
    "    for pred, true, importance, tokens in zip(\n",
    "        report[\"predicted_label\"],\n",
    "        report[\"true_label\"],\n",
    "        report[\"importance\"],\n",
    "        report[\"tokens\"]\n",
    "    ):\n",
    "        for token, importance in zip(tokens, importance):\n",
    "            if token not in _report:\n",
    "                _report[token] = {\n",
    "                    \"pl\": list(),\n",
    "                    \"nl\": list(),\n",
    "                }\n",
    "\n",
    "            _report[token][\"pl\"].append(importance[1])\n",
    "            _report[token][\"nl\"].append(importance[0])\n",
    "\n",
    "    # Calculate the metric for each token and store them in a list of tuples\n",
    "    pl_metrics, nl_metrics = [], []\n",
    "    for token, values in _report.items():\n",
    "        pl_metrics.append((token, metric_function(values[\"pl\"])))\n",
    "        nl_metrics.append((token, metric_function(values[\"nl\"])))\n",
    "\n",
    "    # Sort the list of tuples by the metric value\n",
    "    pl_metrics = sorted(pl_metrics, key=lambda x: x[1], reverse=True)\n",
    "    nl_metrics = sorted(nl_metrics, key=lambda x: x[1], reverse=True)\n",
    "\n",
    "    if split:\n",
    "        pl_metrics = pl_metrics[:NUMBER_OF_IMPORTANT_BAR]\n",
    "        nl_metrics = nl_metrics[:NUMBER_OF_IMPORTANT_BAR]\n",
    "\n",
    "    return {\n",
    "        \"pl\": pl_metrics,\n",
    "        \"nl\": nl_metrics,\n",
    "    }\n"
   ],
   "metadata": {
    "collapsed": false,
    "ExecuteTime": {
     "end_time": "2023-09-27T11:24:41.691174Z",
     "start_time": "2023-09-27T11:24:41.637603Z"
    }
   }
  },
  {
   "cell_type": "code",
   "execution_count": 34,
   "outputs": [],
   "source": [
    "def get_most_popular(report: dict, n=2):\n",
    "    _report = {\n",
    "        \"predict\": dict(),\n",
    "        \"true\": dict(),\n",
    "        \"at_all\": dict(),\n",
    "    }\n",
    "    for pred, true, importance, tokens in zip(\n",
    "        report[\"predicted_label\"],\n",
    "        report[\"true_label\"],\n",
    "        report[\"importance\"],\n",
    "        report[\"tokens\"]\n",
    "    ):\n",
    "\n",
    "        _iter_pred = zip(np.array(tokens), importance[pred])\n",
    "        data_pred = sorted([(token, importance) for token, importance in _iter_pred],\n",
    "                           key= lambda x: x[1],\n",
    "                           reverse=True)\n",
    "        data_pred = data_pred[:n]\n",
    "\n",
    "        if pred==true:\n",
    "            data_true = data_pred.copy()\n",
    "            data_all = data_pred.copy()\n",
    "        else:\n",
    "            _iter_true = zip(np.array(tokens), importance[true])\n",
    "            data_true = sorted([(token, importance) for token, importance in _iter_true],\n",
    "                               key= lambda x: x[1],\n",
    "                               reverse=True)\n",
    "            data_true = data_true[:n]\n",
    "\n",
    "            data_all = sorted(data_true + data_pred,\n",
    "                              key= lambda x: x[1],\n",
    "                              reverse=True)\n",
    "            data_all = data_all[:n]\n",
    "\n",
    "        for p, t, a in zip(data_pred, data_true, data_all):\n",
    "            if p[1] > 0:\n",
    "                _report[\"predict\"][p[0]] = _report[\"predict\"].get(p[0], 0) + 1\n",
    "            if t[1] > 0:\n",
    "                _report[\"true\"][t[0]] = _report[\"true\"].get(t[0], 0) + 1\n",
    "            if a[1] > 0:\n",
    "                _report[\"at_all\"][a[0]] = _report[\"at_all\"].get(a[0], 0) + 1\n",
    "\n",
    "    return {\n",
    "        \"predict\": sorted(_report[\"predict\"].items(), key=lambda x: x[1], reverse=True)[:n],\n",
    "        \"true\": sorted(_report[\"true\"].items(), key=lambda x: x[1], reverse=True)[:n],\n",
    "        \"at_all\": sorted(_report[\"at_all\"].items(), key=lambda x: x[1], reverse=True)[:n],\n",
    "    }\n"
   ],
   "metadata": {
    "collapsed": false,
    "ExecuteTime": {
     "end_time": "2023-09-27T11:24:41.692040Z",
     "start_time": "2023-09-27T11:24:41.643937Z"
    }
   }
  },
  {
   "cell_type": "code",
   "execution_count": 35,
   "outputs": [],
   "source": [
    "def read_report(path):\n",
    "    report = np.load(path, allow_pickle=True).item()\n",
    "    report[\"tokens\"] = [[token.replace('##', '').replace('Ġ', '') for token in tokens ]for tokens in report[\"tokens\"]]\n",
    "    return report\n"
   ],
   "metadata": {
    "collapsed": false,
    "ExecuteTime": {
     "end_time": "2023-09-27T11:24:41.692964Z",
     "start_time": "2023-09-27T11:24:41.649067Z"
    }
   }
  },
  {
   "cell_type": "markdown",
   "source": [
    "# Analysis"
   ],
   "metadata": {
    "collapsed": false,
    "ExecuteTime": {
     "end_time": "2023-09-17T20:34:41.462280Z",
     "start_time": "2023-09-17T20:34:41.424933Z"
    }
   },
   "outputs": [],
   "execution_count": 35
  },
  {
   "cell_type": "code",
   "execution_count": 36,
   "outputs": [],
   "source": [
    "BASE_PATH = \".\"\n",
    "DATASET_NAME = \"sst2\"\n",
    "EXPERIMENTS_PATH = os.path.join(BASE_PATH, DATASET_NAME)\n",
    "\n",
    "FILES = find_files(EXPERIMENTS_PATH, \".npy\")\n",
    "\n",
    "NUMBER_OF_IMPORTANT_WC = 300\n",
    "NUMBER_OF_IMPORTANT_BAR = 15\n",
    "\n",
    "DEMO = False"
   ],
   "metadata": {
    "collapsed": false,
    "ExecuteTime": {
     "end_time": "2023-09-27T11:24:41.693064Z",
     "start_time": "2023-09-27T11:24:41.653097Z"
    }
   }
  },
  {
   "cell_type": "code",
   "execution_count": 37,
   "outputs": [],
   "source": [
    "reports = {\n",
    "    file.split('.')[0]: read_report(os.path.join(EXPERIMENTS_PATH, file)) for file in FILES\n",
    "}"
   ],
   "metadata": {
    "collapsed": false,
    "ExecuteTime": {
     "end_time": "2023-09-27T11:24:41.718658Z",
     "start_time": "2023-09-27T11:24:41.657214Z"
    }
   }
  },
  {
   "cell_type": "markdown",
   "source": [
    "## Word cloud"
   ],
   "metadata": {
    "collapsed": false,
    "ExecuteTime": {
     "end_time": "2023-09-17T20:34:41.462551Z",
     "start_time": "2023-09-17T20:34:41.430765Z"
    }
   },
   "outputs": [],
   "execution_count": 37
  },
  {
   "cell_type": "markdown",
   "source": [
    "### Most important"
   ],
   "metadata": {
    "collapsed": false,
    "ExecuteTime": {
     "end_time": "2023-09-17T20:34:41.471676Z",
     "start_time": "2023-09-17T20:34:41.433301Z"
    }
   },
   "outputs": [],
   "execution_count": 38
  },
  {
   "cell_type": "code",
   "execution_count": 38,
   "outputs": [
    {
     "name": "stdout",
     "output_type": "stream",
     "text": [
      "Path already exists\n"
     ]
    }
   ],
   "source": [
    "save_wc_path = os.path.join(EXPERIMENTS_PATH, \"most_important\")\n",
    "if os.path.exists(save_wc_path):\n",
    "    print(\"Path already exists\")\n",
    "else:\n",
    "    os.mkdir(save_wc_path)\n",
    "    print(\"Path created\")"
   ],
   "metadata": {
    "collapsed": false,
    "ExecuteTime": {
     "end_time": "2023-09-27T11:24:41.720293Z",
     "start_time": "2023-09-27T11:24:41.699261Z"
    }
   }
  },
  {
   "cell_type": "code",
   "execution_count": 39,
   "outputs": [],
   "source": [
    "for exp_name, report in reports.items():\n",
    "    rep_imp = get_most_impacting(report, n=NUMBER_OF_IMPORTANT_WC)\n",
    "    _name = f\"{exp_name}_imp.png\"\n",
    "    path = os.path.join(save_wc_path, _name)\n",
    "    fig, axs = plt.subplots(1, len(rep_imp), figsize=(4*len(rep_imp), 4))\n",
    "    for i, k in enumerate(rep_imp.keys()):\n",
    "        wordcloud = WordCloud(width=800, height=800, background_color=\"white\")\n",
    "        wordcloud.generate_from_frequencies(dict(rep_imp[k]))\n",
    "\n",
    "        axs[i].imshow(wordcloud, interpolation=\"bilinear\")\n",
    "        axs[i].axis(\"off\")\n",
    "\n",
    "        axs[i].set_title(k)\n",
    "\n",
    "    fig.suptitle(exp_name, fontsize=16)\n",
    "    plt.tight_layout(pad=1.0)\n",
    "    if DEMO:\n",
    "        plt.show()\n",
    "    else:\n",
    "        plt.savefig(path, format=\"png\")\n",
    "    plt.close()"
   ],
   "metadata": {
    "collapsed": false,
    "ExecuteTime": {
     "end_time": "2023-09-27T11:24:49.456245Z",
     "start_time": "2023-09-27T11:24:41.725946Z"
    }
   }
  },
  {
   "cell_type": "code",
   "execution_count": 40,
   "outputs": [
    {
     "name": "stderr",
     "output_type": "stream",
     "text": [
      "/var/folders/qr/bqqcrz2x32g6f0wk_w9qf8580000gn/T/ipykernel_17694/3422388298.py:14: UserWarning: FixedFormatter should only be used together with FixedLocator\n",
      "  axs[i].set_xticklabels(tokens, rotation=90, ha='center')\n",
      "/var/folders/qr/bqqcrz2x32g6f0wk_w9qf8580000gn/T/ipykernel_17694/3422388298.py:14: UserWarning: FixedFormatter should only be used together with FixedLocator\n",
      "  axs[i].set_xticklabels(tokens, rotation=90, ha='center')\n",
      "/var/folders/qr/bqqcrz2x32g6f0wk_w9qf8580000gn/T/ipykernel_17694/3422388298.py:14: UserWarning: FixedFormatter should only be used together with FixedLocator\n",
      "  axs[i].set_xticklabels(tokens, rotation=90, ha='center')\n",
      "/var/folders/qr/bqqcrz2x32g6f0wk_w9qf8580000gn/T/ipykernel_17694/3422388298.py:14: UserWarning: FixedFormatter should only be used together with FixedLocator\n",
      "  axs[i].set_xticklabels(tokens, rotation=90, ha='center')\n",
      "/var/folders/qr/bqqcrz2x32g6f0wk_w9qf8580000gn/T/ipykernel_17694/3422388298.py:14: UserWarning: FixedFormatter should only be used together with FixedLocator\n",
      "  axs[i].set_xticklabels(tokens, rotation=90, ha='center')\n",
      "/var/folders/qr/bqqcrz2x32g6f0wk_w9qf8580000gn/T/ipykernel_17694/3422388298.py:14: UserWarning: FixedFormatter should only be used together with FixedLocator\n",
      "  axs[i].set_xticklabels(tokens, rotation=90, ha='center')\n",
      "/var/folders/qr/bqqcrz2x32g6f0wk_w9qf8580000gn/T/ipykernel_17694/3422388298.py:14: UserWarning: FixedFormatter should only be used together with FixedLocator\n",
      "  axs[i].set_xticklabels(tokens, rotation=90, ha='center')\n",
      "/var/folders/qr/bqqcrz2x32g6f0wk_w9qf8580000gn/T/ipykernel_17694/3422388298.py:14: UserWarning: FixedFormatter should only be used together with FixedLocator\n",
      "  axs[i].set_xticklabels(tokens, rotation=90, ha='center')\n",
      "/var/folders/qr/bqqcrz2x32g6f0wk_w9qf8580000gn/T/ipykernel_17694/3422388298.py:14: UserWarning: FixedFormatter should only be used together with FixedLocator\n",
      "  axs[i].set_xticklabels(tokens, rotation=90, ha='center')\n",
      "/var/folders/qr/bqqcrz2x32g6f0wk_w9qf8580000gn/T/ipykernel_17694/3422388298.py:14: UserWarning: FixedFormatter should only be used together with FixedLocator\n",
      "  axs[i].set_xticklabels(tokens, rotation=90, ha='center')\n",
      "/var/folders/qr/bqqcrz2x32g6f0wk_w9qf8580000gn/T/ipykernel_17694/3422388298.py:14: UserWarning: FixedFormatter should only be used together with FixedLocator\n",
      "  axs[i].set_xticklabels(tokens, rotation=90, ha='center')\n",
      "/var/folders/qr/bqqcrz2x32g6f0wk_w9qf8580000gn/T/ipykernel_17694/3422388298.py:14: UserWarning: FixedFormatter should only be used together with FixedLocator\n",
      "  axs[i].set_xticklabels(tokens, rotation=90, ha='center')\n"
     ]
    }
   ],
   "source": [
    "for exp_name, report in reports.items():\n",
    "    rep_imp = get_most_impacting(report, n=NUMBER_OF_IMPORTANT_BAR)\n",
    "    _name = f\"{exp_name}_imp_bar.png\"\n",
    "    path = os.path.join(save_wc_path, _name)\n",
    "    fig, axs = plt.subplots(1, len(rep_imp), figsize=(6*len(rep_imp), 6))\n",
    "\n",
    "    for i, k in enumerate(rep_imp.keys()):\n",
    "\n",
    "        tokens = [item[0] for item in rep_imp[k]]\n",
    "        freqs = [item[1] for item in rep_imp[k]]\n",
    "\n",
    "        axs[i].bar(tokens, freqs)\n",
    "        axs[i].set_title(k)\n",
    "        axs[i].set_xticklabels(tokens, rotation=90, ha='center')\n",
    "\n",
    "\n",
    "        axs[i].set_title(k)\n",
    "\n",
    "    fig.suptitle(exp_name, fontsize=16)\n",
    "    plt.tight_layout(pad=1.0)\n",
    "    if DEMO:\n",
    "        plt.show()\n",
    "    else:\n",
    "        plt.savefig(path, format=\"png\")\n",
    "    plt.close()\n"
   ],
   "metadata": {
    "collapsed": false,
    "ExecuteTime": {
     "end_time": "2023-09-27T11:24:50.399623Z",
     "start_time": "2023-09-27T11:24:49.459290Z"
    }
   }
  },
  {
   "cell_type": "markdown",
   "source": [
    "### Most popular"
   ],
   "metadata": {
    "collapsed": false,
    "ExecuteTime": {
     "end_time": "2023-09-17T20:34:49.421648Z",
     "start_time": "2023-09-17T20:34:41.479916Z"
    }
   },
   "outputs": [],
   "execution_count": 40
  },
  {
   "cell_type": "code",
   "execution_count": 41,
   "outputs": [
    {
     "name": "stdout",
     "output_type": "stream",
     "text": [
      "Path already exists\n"
     ]
    }
   ],
   "source": [
    "save_mp_path = os.path.join(EXPERIMENTS_PATH, \"most_popular\")\n",
    "if os.path.exists(save_mp_path):\n",
    "    print(\"Path already exists\")\n",
    "else:\n",
    "    os.mkdir(save_mp_path)\n",
    "    print(\"Path created\")"
   ],
   "metadata": {
    "collapsed": false,
    "ExecuteTime": {
     "end_time": "2023-09-27T11:24:50.404070Z",
     "start_time": "2023-09-27T11:24:50.401587Z"
    }
   }
  },
  {
   "cell_type": "code",
   "execution_count": 42,
   "outputs": [],
   "source": [
    "for exp_name, report in reports.items():\n",
    "    rep_mp = get_most_popular(report, n=NUMBER_OF_IMPORTANT_WC)\n",
    "    _name = f\"{exp_name}_mp.png\"\n",
    "    path = os.path.join(save_mp_path, _name)\n",
    "    fig, axs = plt.subplots(1, len(rep_mp), figsize=(4*len(rep_mp), 4))\n",
    "    for i, k in enumerate(rep_mp.keys()):\n",
    "        wordcloud = WordCloud(width=800, height=800, background_color=\"white\")\n",
    "        wordcloud.generate_from_frequencies(dict(rep_mp[k]))\n",
    "\n",
    "        axs[i].imshow(wordcloud, interpolation=\"bilinear\")\n",
    "        axs[i].axis(\"off\")\n",
    "\n",
    "        axs[i].set_title(k)\n",
    "\n",
    "    fig.suptitle(exp_name, fontsize=16)\n",
    "    plt.tight_layout(pad=1.0)\n",
    "    if DEMO:\n",
    "        plt.show()\n",
    "    else:\n",
    "        plt.savefig(path, format=\"png\")\n",
    "    plt.close()\n"
   ],
   "metadata": {
    "collapsed": false,
    "ExecuteTime": {
     "end_time": "2023-09-27T11:24:58.411139Z",
     "start_time": "2023-09-27T11:24:50.427755Z"
    }
   }
  },
  {
   "cell_type": "markdown",
   "source": [],
   "metadata": {
    "collapsed": false,
    "ExecuteTime": {
     "end_time": "2023-09-17T20:34:50.318546Z",
     "start_time": "2023-09-17T20:34:50.317294Z"
    }
   },
   "outputs": [
    {
     "name": "stdout",
     "output_type": "stream",
     "text": [
      "Path already exists\n"
     ]
    }
   ],
   "execution_count": 42
  },
  {
   "cell_type": "markdown",
   "source": [
    "## for particular set of tokens"
   ],
   "metadata": {
    "collapsed": false,
    "ExecuteTime": {
     "end_time": "2023-09-17T20:34:57.870737Z",
     "start_time": "2023-09-17T20:34:50.343704Z"
    }
   },
   "outputs": [],
   "execution_count": 43
  },
  {
   "cell_type": "code",
   "execution_count": 43,
   "outputs": [],
   "source": [
    "EXP_and_NAME = {\n",
    "    # \"true positive\": 'tp',\n",
    "    # \"true negative\": 'tn',\n",
    "    # \"false positive\": 'fp',\n",
    "    # \"false negative\": 'fn',\n",
    "    # \"positive predicted\": 'tp+fp',\n",
    "    # \"negative predicted\": 'tn+fn',\n",
    "    \"real positive\": 'tp+fn',\n",
    "    \"real negative\": 'tn+fp',\n",
    "    \"effect on positivity\": \"pl\",\n",
    "    \"effect on negativity\": \"nl\",\n",
    "}"
   ],
   "metadata": {
    "collapsed": false,
    "ExecuteTime": {
     "end_time": "2023-09-27T11:24:58.413767Z",
     "start_time": "2023-09-27T11:24:58.411747Z"
    }
   }
  },
  {
   "cell_type": "code",
   "execution_count": 44,
   "outputs": [
    {
     "name": "stdout",
     "output_type": "stream",
     "text": [
      "Path already exists\n"
     ]
    }
   ],
   "source": [
    "save_mp_path = os.path.join(EXPERIMENTS_PATH, \"token effect\")\n",
    "if os.path.exists(save_mp_path):\n",
    "    print(\"Path already exists\")\n",
    "else:\n",
    "    os.mkdir(save_mp_path)\n",
    "    print(\"Path created\")"
   ],
   "metadata": {
    "collapsed": false,
    "ExecuteTime": {
     "end_time": "2023-09-27T11:24:58.421221Z",
     "start_time": "2023-09-27T11:24:58.418639Z"
    }
   }
  },
  {
   "cell_type": "code",
   "execution_count": 45,
   "outputs": [],
   "source": [
    "token_group, token_set = [\n",
    "    (\"punctuation\", list(string.punctuation)),\n",
    "    (\"neutral tokens\", [\"a\", \"an\", \"what\", \"the\", \"you\", \"one\", \"it\", \"this\", \"movie\", \"i\", \"with\", \"if\"]),\n",
    "    ('multy type', [\n",
    "        \"respect\", \"impact\", \"loved\"\n",
    "        \"a\", \"an\", \"the\", \"one\", \"it\", \"this\",\n",
    "        \".\", \":\", \";\", \"(\", \")\", \"?\",\n",
    "        \"killing\", \"stupid\",\n",
    "    ])\n",
    "][2]\n",
    "\n",
    "_save_mp_path = os.path.join(save_mp_path, token_group)\n",
    "\n",
    "if not os.path.exists(_save_mp_path):\n",
    "    os.mkdir(_save_mp_path)\n",
    "    print(\"Path created\")\n"
   ],
   "metadata": {
    "collapsed": false,
    "ExecuteTime": {
     "end_time": "2023-09-27T11:24:58.427171Z",
     "start_time": "2023-09-27T11:24:58.421830Z"
    }
   }
  },
  {
   "cell_type": "code",
   "execution_count": 46,
   "outputs": [],
   "source": [
    "for exp_name, report in reports.items():\n",
    "    rep_mp = get_importance(report, d_tokens=token_set)\n",
    "    _name = f\"{exp_name}_{token_group}.png\"\n",
    "    path = os.path.join(_save_mp_path, _name)\n",
    "    fig, axs = plt.subplots(len(EXP_and_NAME)//2, 2, figsize=(14, 4*len(EXP_and_NAME)))\n",
    "\n",
    "    for idx, exp in enumerate(EXP_and_NAME.keys()):\n",
    "        i,j = idx//2, idx%2\n",
    "        label_list = list(str(EXP_and_NAME[exp]).split('+'))\n",
    "        temp_dict = dict()\n",
    "        for ts in token_set:\n",
    "            for l in label_list:\n",
    "                if rep_mp[ts][l]:\n",
    "                    temp_dict[ts] = list(temp_dict.get(ts, [])) + list(rep_mp[ts][l])\n",
    "\n",
    "        axs[i][j].boxplot(temp_dict.values(), labels=temp_dict.keys())\n",
    "        axs[i][j].set_title(exp)\n",
    "\n",
    "    fig.suptitle(exp_name, fontsize=16)\n",
    "    plt.tight_layout(pad=1.0)\n",
    "    if DEMO:\n",
    "        plt.show()\n",
    "    else:\n",
    "        plt.savefig(path, format=\"png\")\n",
    "    plt.close()"
   ],
   "metadata": {
    "collapsed": false,
    "ExecuteTime": {
     "end_time": "2023-09-27T11:25:00.179801Z",
     "start_time": "2023-09-27T11:24:58.448400Z"
    }
   }
  },
  {
   "cell_type": "markdown",
   "source": [
    "In this section, we would get importance with 'get_importance' function and then for [pl, nl], we would calculate mean for each token and plot 'NUMBER_OF_IMPORTANT_BAR' bar with most impact on that label"
   ],
   "metadata": {
    "collapsed": false,
    "ExecuteTime": {
     "end_time": "2023-09-17T20:34:57.880555Z",
     "start_time": "2023-09-17T20:34:57.879218Z"
    }
   },
   "outputs": [],
   "execution_count": 46
  },
  {
   "cell_type": "code",
   "execution_count": 47,
   "outputs": [
    {
     "name": "stderr",
     "output_type": "stream",
     "text": [
      "/var/folders/qr/bqqcrz2x32g6f0wk_w9qf8580000gn/T/ipykernel_17694/2094701224.py:18: UserWarning: FixedFormatter should only be used together with FixedLocator\n",
      "  axs[i].set_xticklabels(tokens, rotation=90, ha='center')\n",
      "/var/folders/qr/bqqcrz2x32g6f0wk_w9qf8580000gn/T/ipykernel_17694/2094701224.py:18: UserWarning: FixedFormatter should only be used together with FixedLocator\n",
      "  axs[i].set_xticklabels(tokens, rotation=90, ha='center')\n",
      "/var/folders/qr/bqqcrz2x32g6f0wk_w9qf8580000gn/T/ipykernel_17694/2094701224.py:18: UserWarning: FixedFormatter should only be used together with FixedLocator\n",
      "  axs[i].set_xticklabels(tokens, rotation=90, ha='center')\n",
      "/var/folders/qr/bqqcrz2x32g6f0wk_w9qf8580000gn/T/ipykernel_17694/2094701224.py:18: UserWarning: FixedFormatter should only be used together with FixedLocator\n",
      "  axs[i].set_xticklabels(tokens, rotation=90, ha='center')\n",
      "/var/folders/qr/bqqcrz2x32g6f0wk_w9qf8580000gn/T/ipykernel_17694/2094701224.py:18: UserWarning: FixedFormatter should only be used together with FixedLocator\n",
      "  axs[i].set_xticklabels(tokens, rotation=90, ha='center')\n",
      "/var/folders/qr/bqqcrz2x32g6f0wk_w9qf8580000gn/T/ipykernel_17694/2094701224.py:18: UserWarning: FixedFormatter should only be used together with FixedLocator\n",
      "  axs[i].set_xticklabels(tokens, rotation=90, ha='center')\n",
      "/var/folders/qr/bqqcrz2x32g6f0wk_w9qf8580000gn/T/ipykernel_17694/2094701224.py:18: UserWarning: FixedFormatter should only be used together with FixedLocator\n",
      "  axs[i].set_xticklabels(tokens, rotation=90, ha='center')\n",
      "/var/folders/qr/bqqcrz2x32g6f0wk_w9qf8580000gn/T/ipykernel_17694/2094701224.py:18: UserWarning: FixedFormatter should only be used together with FixedLocator\n",
      "  axs[i].set_xticklabels(tokens, rotation=90, ha='center')\n"
     ]
    }
   ],
   "source": [
    "_save_path = os.path.join(save_mp_path, \"most important aggregated\")\n",
    "if not os.path.exists(_save_path):\n",
    "    os.mkdir(_save_path)\n",
    "    print(\"Path created\")\n",
    "\n",
    "for exp_name, report in reports.items():\n",
    "    rep_mp = get_importance_all(report, metric_function=np.var)\n",
    "    _name = f\"{exp_name}_aggr_bar.png\"\n",
    "    path = os.path.join(_save_path, _name)\n",
    "    fig, axs = plt.subplots(1, len(rep_mp), figsize=(6*len(rep_mp), 6))\n",
    "\n",
    "    for i, k in enumerate(rep_mp.keys()):\n",
    "        tokens = [item[0] for item in rep_mp[k]]\n",
    "        freqs = [item[1] for item in rep_mp[k]]\n",
    "\n",
    "        axs[i].bar(tokens, freqs)\n",
    "        axs[i].set_title(k)\n",
    "        axs[i].set_xticklabels(tokens, rotation=90, ha='center')\n",
    "\n",
    "        axs[i].set_title(k)\n",
    "\n",
    "    fig.suptitle(exp_name, fontsize=16)\n",
    "    plt.tight_layout(pad=1.0)\n",
    "    if DEMO:\n",
    "        plt.show()\n",
    "    else:\n",
    "        plt.savefig(path, format=\"png\")\n",
    "    plt.close()\n"
   ],
   "metadata": {
    "collapsed": false,
    "ExecuteTime": {
     "end_time": "2023-09-27T11:25:01.220146Z",
     "start_time": "2023-09-27T11:25:00.181105Z"
    }
   }
  },
  {
   "cell_type": "markdown",
   "source": [
    "## generate [token-mean-variance] dataset"
   ],
   "metadata": {
    "collapsed": false
   }
  },
  {
   "cell_type": "code",
   "execution_count": 64,
   "outputs": [
    {
     "name": "stdout",
     "output_type": "stream",
     "text": [
      "validation_bert-base-12627-sst2\n"
     ]
    },
    {
     "data": {
      "text/plain": "             mean0        mean1     variance0      variance1\ncount  4326.000000  4326.000000   4326.000000    4326.000000\nmean     -0.087279     0.157232     28.991533      92.212868\nstd       8.183271    13.434590    711.922302    2636.426025\nmin    -150.396652  -374.112732      0.000000       0.000000\n25%      -1.279370    -1.909422      0.000000       0.000000\n50%       0.047590    -0.060266      0.000000       0.000000\n75%       1.349156     1.780900      1.092523       2.232754\nmax     224.679291   287.782043  42046.464844  157164.078125",
      "text/html": "<div>\n<style scoped>\n    .dataframe tbody tr th:only-of-type {\n        vertical-align: middle;\n    }\n\n    .dataframe tbody tr th {\n        vertical-align: top;\n    }\n\n    .dataframe thead th {\n        text-align: right;\n    }\n</style>\n<table border=\"1\" class=\"dataframe\">\n  <thead>\n    <tr style=\"text-align: right;\">\n      <th></th>\n      <th>mean0</th>\n      <th>mean1</th>\n      <th>variance0</th>\n      <th>variance1</th>\n    </tr>\n  </thead>\n  <tbody>\n    <tr>\n      <th>count</th>\n      <td>4326.000000</td>\n      <td>4326.000000</td>\n      <td>4326.000000</td>\n      <td>4326.000000</td>\n    </tr>\n    <tr>\n      <th>mean</th>\n      <td>-0.087279</td>\n      <td>0.157232</td>\n      <td>28.991533</td>\n      <td>92.212868</td>\n    </tr>\n    <tr>\n      <th>std</th>\n      <td>8.183271</td>\n      <td>13.434590</td>\n      <td>711.922302</td>\n      <td>2636.426025</td>\n    </tr>\n    <tr>\n      <th>min</th>\n      <td>-150.396652</td>\n      <td>-374.112732</td>\n      <td>0.000000</td>\n      <td>0.000000</td>\n    </tr>\n    <tr>\n      <th>25%</th>\n      <td>-1.279370</td>\n      <td>-1.909422</td>\n      <td>0.000000</td>\n      <td>0.000000</td>\n    </tr>\n    <tr>\n      <th>50%</th>\n      <td>0.047590</td>\n      <td>-0.060266</td>\n      <td>0.000000</td>\n      <td>0.000000</td>\n    </tr>\n    <tr>\n      <th>75%</th>\n      <td>1.349156</td>\n      <td>1.780900</td>\n      <td>1.092523</td>\n      <td>2.232754</td>\n    </tr>\n    <tr>\n      <th>max</th>\n      <td>224.679291</td>\n      <td>287.782043</td>\n      <td>42046.464844</td>\n      <td>157164.078125</td>\n    </tr>\n  </tbody>\n</table>\n</div>"
     },
     "metadata": {},
     "output_type": "display_data"
    },
    {
     "name": "stdout",
     "output_type": "stream",
     "text": [
      "validation_bert-base-8418-sst2\n"
     ]
    },
    {
     "data": {
      "text/plain": "             mean0        mean1    variance0    variance1\ncount  4326.000000  4326.000000  4326.000000  4326.000000\nmean     -0.188525     0.305529     3.123484    11.038285\nstd       3.683091     6.471570    17.308407    83.783073\nmin     -40.743336   -91.955757     0.000000     0.000000\n25%      -1.053963    -1.657771     0.000000     0.000000\n50%       0.001496    -0.008482     0.000000     0.000000\n75%       1.073346     1.593593     0.757086     1.746950\nmax      36.479366    73.606377   467.527954  3883.757812",
      "text/html": "<div>\n<style scoped>\n    .dataframe tbody tr th:only-of-type {\n        vertical-align: middle;\n    }\n\n    .dataframe tbody tr th {\n        vertical-align: top;\n    }\n\n    .dataframe thead th {\n        text-align: right;\n    }\n</style>\n<table border=\"1\" class=\"dataframe\">\n  <thead>\n    <tr style=\"text-align: right;\">\n      <th></th>\n      <th>mean0</th>\n      <th>mean1</th>\n      <th>variance0</th>\n      <th>variance1</th>\n    </tr>\n  </thead>\n  <tbody>\n    <tr>\n      <th>count</th>\n      <td>4326.000000</td>\n      <td>4326.000000</td>\n      <td>4326.000000</td>\n      <td>4326.000000</td>\n    </tr>\n    <tr>\n      <th>mean</th>\n      <td>-0.188525</td>\n      <td>0.305529</td>\n      <td>3.123484</td>\n      <td>11.038285</td>\n    </tr>\n    <tr>\n      <th>std</th>\n      <td>3.683091</td>\n      <td>6.471570</td>\n      <td>17.308407</td>\n      <td>83.783073</td>\n    </tr>\n    <tr>\n      <th>min</th>\n      <td>-40.743336</td>\n      <td>-91.955757</td>\n      <td>0.000000</td>\n      <td>0.000000</td>\n    </tr>\n    <tr>\n      <th>25%</th>\n      <td>-1.053963</td>\n      <td>-1.657771</td>\n      <td>0.000000</td>\n      <td>0.000000</td>\n    </tr>\n    <tr>\n      <th>50%</th>\n      <td>0.001496</td>\n      <td>-0.008482</td>\n      <td>0.000000</td>\n      <td>0.000000</td>\n    </tr>\n    <tr>\n      <th>75%</th>\n      <td>1.073346</td>\n      <td>1.593593</td>\n      <td>0.757086</td>\n      <td>1.746950</td>\n    </tr>\n    <tr>\n      <th>max</th>\n      <td>36.479366</td>\n      <td>73.606377</td>\n      <td>467.527954</td>\n      <td>3883.757812</td>\n    </tr>\n  </tbody>\n</table>\n</div>"
     },
     "metadata": {},
     "output_type": "display_data"
    },
    {
     "name": "stdout",
     "output_type": "stream",
     "text": [
      "validation_bert-base-16836-sst2\n"
     ]
    },
    {
     "data": {
      "text/plain": "             mean0        mean1    variance0     variance1\ncount  4326.000000  4326.000000  4326.000000   4326.000000\nmean     -0.060133     0.075105     8.731451     31.253742\nstd       6.501721    11.331075    97.420952    450.761841\nmin    -140.783249  -278.347351     0.000000      0.000000\n25%      -1.280248    -1.907115     0.000000      0.000000\n50%       0.034117    -0.046161     0.000000      0.000000\n75%       1.351108     1.795766     1.084668      2.224060\nmax     157.148178   257.677002  3905.622314  21934.523438",
      "text/html": "<div>\n<style scoped>\n    .dataframe tbody tr th:only-of-type {\n        vertical-align: middle;\n    }\n\n    .dataframe tbody tr th {\n        vertical-align: top;\n    }\n\n    .dataframe thead th {\n        text-align: right;\n    }\n</style>\n<table border=\"1\" class=\"dataframe\">\n  <thead>\n    <tr style=\"text-align: right;\">\n      <th></th>\n      <th>mean0</th>\n      <th>mean1</th>\n      <th>variance0</th>\n      <th>variance1</th>\n    </tr>\n  </thead>\n  <tbody>\n    <tr>\n      <th>count</th>\n      <td>4326.000000</td>\n      <td>4326.000000</td>\n      <td>4326.000000</td>\n      <td>4326.000000</td>\n    </tr>\n    <tr>\n      <th>mean</th>\n      <td>-0.060133</td>\n      <td>0.075105</td>\n      <td>8.731451</td>\n      <td>31.253742</td>\n    </tr>\n    <tr>\n      <th>std</th>\n      <td>6.501721</td>\n      <td>11.331075</td>\n      <td>97.420952</td>\n      <td>450.761841</td>\n    </tr>\n    <tr>\n      <th>min</th>\n      <td>-140.783249</td>\n      <td>-278.347351</td>\n      <td>0.000000</td>\n      <td>0.000000</td>\n    </tr>\n    <tr>\n      <th>25%</th>\n      <td>-1.280248</td>\n      <td>-1.907115</td>\n      <td>0.000000</td>\n      <td>0.000000</td>\n    </tr>\n    <tr>\n      <th>50%</th>\n      <td>0.034117</td>\n      <td>-0.046161</td>\n      <td>0.000000</td>\n      <td>0.000000</td>\n    </tr>\n    <tr>\n      <th>75%</th>\n      <td>1.351108</td>\n      <td>1.795766</td>\n      <td>1.084668</td>\n      <td>2.224060</td>\n    </tr>\n    <tr>\n      <th>max</th>\n      <td>157.148178</td>\n      <td>257.677002</td>\n      <td>3905.622314</td>\n      <td>21934.523438</td>\n    </tr>\n  </tbody>\n</table>\n</div>"
     },
     "metadata": {},
     "output_type": "display_data"
    },
    {
     "name": "stdout",
     "output_type": "stream",
     "text": [
      "validation_bert-base-4209-sst2\n"
     ]
    },
    {
     "data": {
      "text/plain": "             mean0        mean1    variance0    variance1\ncount  4326.000000  4326.000000  4326.000000  4326.000000\nmean     -0.047119     0.049748     2.663279     5.672654\nstd       3.295612     4.930093    34.648205    76.027199\nmin     -75.728714   -67.475098     0.000000     0.000000\n25%      -0.752164    -1.333517     0.000000     0.000000\n50%       0.041868    -0.063455     0.000000     0.000000\n75%       0.927986     1.077491     0.420628     0.856525\nmax      39.871532   128.137711  1989.842407  4398.737793",
      "text/html": "<div>\n<style scoped>\n    .dataframe tbody tr th:only-of-type {\n        vertical-align: middle;\n    }\n\n    .dataframe tbody tr th {\n        vertical-align: top;\n    }\n\n    .dataframe thead th {\n        text-align: right;\n    }\n</style>\n<table border=\"1\" class=\"dataframe\">\n  <thead>\n    <tr style=\"text-align: right;\">\n      <th></th>\n      <th>mean0</th>\n      <th>mean1</th>\n      <th>variance0</th>\n      <th>variance1</th>\n    </tr>\n  </thead>\n  <tbody>\n    <tr>\n      <th>count</th>\n      <td>4326.000000</td>\n      <td>4326.000000</td>\n      <td>4326.000000</td>\n      <td>4326.000000</td>\n    </tr>\n    <tr>\n      <th>mean</th>\n      <td>-0.047119</td>\n      <td>0.049748</td>\n      <td>2.663279</td>\n      <td>5.672654</td>\n    </tr>\n    <tr>\n      <th>std</th>\n      <td>3.295612</td>\n      <td>4.930093</td>\n      <td>34.648205</td>\n      <td>76.027199</td>\n    </tr>\n    <tr>\n      <th>min</th>\n      <td>-75.728714</td>\n      <td>-67.475098</td>\n      <td>0.000000</td>\n      <td>0.000000</td>\n    </tr>\n    <tr>\n      <th>25%</th>\n      <td>-0.752164</td>\n      <td>-1.333517</td>\n      <td>0.000000</td>\n      <td>0.000000</td>\n    </tr>\n    <tr>\n      <th>50%</th>\n      <td>0.041868</td>\n      <td>-0.063455</td>\n      <td>0.000000</td>\n      <td>0.000000</td>\n    </tr>\n    <tr>\n      <th>75%</th>\n      <td>0.927986</td>\n      <td>1.077491</td>\n      <td>0.420628</td>\n      <td>0.856525</td>\n    </tr>\n    <tr>\n      <th>max</th>\n      <td>39.871532</td>\n      <td>128.137711</td>\n      <td>1989.842407</td>\n      <td>4398.737793</td>\n    </tr>\n  </tbody>\n</table>\n</div>"
     },
     "metadata": {},
     "output_type": "display_data"
    }
   ],
   "source": [
    "from IPython.display import display, HTML\n",
    "\n",
    "_save_path = os.path.join(save_mp_path, \"trends\")\n",
    "if not os.path.exists(_save_path):\n",
    "    os.mkdir(_save_path)\n",
    "    print(\"Path created\")\n",
    "\n",
    "for exp_name, report in reports.items():\n",
    "    rep_mp = get_importance_all(\n",
    "        report,\n",
    "        metric_function=np.mean,\n",
    "        split=False\n",
    "    )\n",
    "    rep_vp = get_importance_all(\n",
    "        report,\n",
    "        metric_function=np.var,\n",
    "        split=False\n",
    "    )\n",
    "    _name = f\"{exp_name}.csv\"\n",
    "    path = os.path.join(_save_path, _name)\n",
    "\n",
    "    tokens = [token for token, _ in rep_mp['pl']]\n",
    "    data = [\n",
    "        {\"token\": token, \"mean0\": 0, \"mean1\": 0, \"variance0\": 0, \"variance1\": 0} \\\n",
    "        for token in tokens\n",
    "    ]\n",
    "\n",
    "    for mm1, vv1, mm0, vv0 in zip(rep_mp[\"pl\"], rep_vp[\"pl\"], rep_mp[\"nl\"], rep_vp[\"nl\"]):\n",
    "        idx_v = tokens.index(vv1[0])\n",
    "        idx_m = tokens.index(mm1[0])\n",
    "        data[idx_v][\"variance1\"] = vv1[1]\n",
    "        data[idx_m][\"mean1\"] = mm1[1]\n",
    "        idx_v = tokens.index(vv0[0])\n",
    "        idx_m = tokens.index(mm0[0])\n",
    "        data[idx_v][\"variance0\"] = vv0[1]\n",
    "        data[idx_m][\"mean0\"] = mm0[1]\n",
    "\n",
    "    df = pd.DataFrame.from_dict(data)\n",
    "\n",
    "    if DEMO:\n",
    "        print(exp_name)\n",
    "        display((df.describe()))\n",
    "        # display(HTML(df.to_html(index=False)))\n",
    "    else:\n",
    "        df.to_csv(path, index=False)\n"
   ],
   "metadata": {
    "collapsed": false,
    "ExecuteTime": {
     "end_time": "2023-09-27T11:36:04.735028Z",
     "start_time": "2023-09-27T11:36:02.665928Z"
    }
   }
  },
  {
   "cell_type": "markdown",
   "source": [
    "Now, add variance to the dataset above"
   ],
   "metadata": {
    "collapsed": false
   }
  },
  {
   "cell_type": "code",
   "execution_count": 48,
   "outputs": [],
   "source": [],
   "metadata": {
    "collapsed": false,
    "ExecuteTime": {
     "end_time": "2023-09-27T11:25:01.852986Z",
     "start_time": "2023-09-27T11:25:01.778557Z"
    }
   }
  }
 ],
 "metadata": {
  "kernelspec": {
   "display_name": "Python 3",
   "language": "python",
   "name": "python3"
  },
  "language_info": {
   "codemirror_mode": {
    "name": "ipython",
    "version": 2
   },
   "file_extension": ".py",
   "mimetype": "text/x-python",
   "name": "python",
   "nbconvert_exporter": "python",
   "pygments_lexer": "ipython2",
   "version": "2.7.6"
  }
 },
 "nbformat": 4,
 "nbformat_minor": 0
}
