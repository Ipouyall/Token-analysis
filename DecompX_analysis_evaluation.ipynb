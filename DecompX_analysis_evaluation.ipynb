{
 "cells": [
  {
   "cell_type": "code",
   "execution_count": null,
   "metadata": {
    "collapsed": true
   },
   "outputs": [],
   "source": [
    "import string\n",
    "\n",
    "import pandas as pd\n",
    "import seaborn as sns\n",
    "import matplotlib.pyplot as plt\n",
    "from wordcloud import WordCloud\n",
    "import numpy as np\n",
    "import os"
   ]
  },
  {
   "cell_type": "markdown",
   "source": [
    "# Utils"
   ],
   "metadata": {
    "collapsed": false
   }
  },
  {
   "cell_type": "code",
   "execution_count": null,
   "outputs": [],
   "source": [
    "def find_files(path, ext):\n",
    "    files = []\n",
    "    for file in os.listdir(path):\n",
    "        if file.endswith(ext):\n",
    "            files.append(file)\n",
    "    return files"
   ],
   "metadata": {
    "collapsed": false
   }
  },
  {
   "cell_type": "code",
   "execution_count": null,
   "outputs": [],
   "source": [
    "from typing import Iterable, Union\n",
    "\n",
    "def get_most_impacting(report: dict, n=2):\n",
    "    \"\"\"\n",
    "    Get the most impacting tokens from experiments.\n",
    "\n",
    "    Args:\n",
    "        report (dict): The input dictionary containing experiment data >> dict_keys(['idx', 'tokens', 'importance', 'logits', 'predicted_label', 'true_label'])\n",
    "        n (int, optional): The number of tokens to consider. Defaults to 2.\n",
    "\n",
    "    Returns:\n",
    "        dict: A dictionary containing analysis results.\n",
    "    \"\"\"\n",
    "    _report = {\n",
    "        \"predict\": dict(),\n",
    "        \"true\": dict(),\n",
    "        \"at_all\": dict(),\n",
    "    }\n",
    "    for pred, true, importance, tokens in zip(\n",
    "        report[\"predicted_label\"],\n",
    "        report[\"true_label\"],\n",
    "        report[\"importance\"],\n",
    "        report[\"tokens\"]\n",
    "    ):\n",
    "\n",
    "        _iter_pred = zip(np.array(tokens), importance[pred])\n",
    "        data_pred = sorted([(token, importance) for token, importance in _iter_pred],\n",
    "                           key= lambda x: x[1],\n",
    "                           reverse=True)\n",
    "        data_pred = data_pred[:n]\n",
    "\n",
    "        if pred==true:\n",
    "            data_true = data_pred.copy()\n",
    "            data_all = data_pred.copy()\n",
    "        else:\n",
    "            _iter_true = zip(np.array(tokens), importance[true])\n",
    "            data_true = sorted([(token, importance) for token, importance in _iter_true],\n",
    "                               key= lambda x: x[1],\n",
    "                               reverse=True)\n",
    "            data_true = data_true[:n]\n",
    "\n",
    "            data_all = sorted(data_true + data_pred,\n",
    "                              key= lambda x: x[1],\n",
    "                              reverse=True)\n",
    "            data_all = data_all[:n]\n",
    "\n",
    "        for p, t, a in zip(data_pred, data_true, data_all):\n",
    "            if p[1] > 0:\n",
    "                _report[\"predict\"][p[0]] = _report[\"predict\"].get(p[0], 0) + p[1]\n",
    "            if t[1] > 0:\n",
    "                _report[\"true\"][t[0]] = _report[\"true\"].get(t[0], 0) + t[1]\n",
    "            if a[1] > 0:\n",
    "                _report[\"at_all\"][a[0]] = _report[\"at_all\"].get(a[0], 0) + a[1]\n",
    "            \n",
    "    return {\n",
    "        \"predict\": sorted(_report[\"predict\"].items(), key=lambda x: x[1], reverse=True)[:n],\n",
    "        \"true\": sorted(_report[\"true\"].items(), key=lambda x: x[1], reverse=True)[:n],\n",
    "        \"at_all\": sorted(_report[\"at_all\"].items(), key=lambda x: x[1], reverse=True)[:n],\n",
    "    }\n",
    "\n",
    "\n",
    "def get_importance(report: dict, d_tokens: Iterable):\n",
    "    _report = {}\n",
    "    for dt in d_tokens:\n",
    "        _report[dt] = {\n",
    "            \"tp\": list(),\n",
    "            \"tn\": list(),\n",
    "            \"fp\": list(),\n",
    "            \"fn\": list(),\n",
    "            \"pl\": list(),\n",
    "            \"nl\": list(),\n",
    "        }\n",
    "    for pred, true, importance, tokens in zip(\n",
    "        report[\"predicted_label\"],\n",
    "        report[\"true_label\"],\n",
    "        report[\"importance\"],\n",
    "        report[\"tokens\"]\n",
    "    ):\n",
    "        for token, importance in zip(tokens, importance):\n",
    "            token = token.replace('##', '').replace('Ġ', '')\n",
    "            for dt in d_tokens:\n",
    "                if dt == token:\n",
    "                    _report[dt][\"pl\"].append(importance[1])\n",
    "                    _report[dt][\"nl\"].append(importance[0])\n",
    "\n",
    "            if pred==true:\n",
    "                if pred > 0:\n",
    "                    for dt in d_tokens:\n",
    "                        if dt == token:\n",
    "                            _report[dt][\"tp\"].append(importance[1])\n",
    "                else:\n",
    "                    for dt in d_tokens:\n",
    "                        if dt == token:\n",
    "                            _report[dt][\"tn\"].append(importance[0])\n",
    "            else:\n",
    "                if pred > 0:\n",
    "                    for dt in d_tokens:\n",
    "                        if dt == token:\n",
    "                            _report[dt][\"fp\"].append(importance[1])\n",
    "                else:\n",
    "                    for dt in d_tokens:\n",
    "                        if dt == token:\n",
    "                            _report[dt][\"fn\"].append(importance[0])\n",
    "\n",
    "    return _report"
   ],
   "metadata": {
    "collapsed": false
   }
  },
  {
   "cell_type": "code",
   "execution_count": null,
   "outputs": [],
   "source": [
    "def get_importance_all(report: dict, metric_function=np.mean, split=True):\n",
    "    _report = {}\n",
    "\n",
    "    for pred, true, importance, tokens in zip(\n",
    "        report[\"predicted_label\"],\n",
    "        report[\"true_label\"],\n",
    "        report[\"importance\"],\n",
    "        report[\"tokens\"]\n",
    "    ):\n",
    "        for token, importance in zip(tokens, importance):\n",
    "            if token not in _report:\n",
    "                _report[token] = {\n",
    "                    \"pl\": list(),\n",
    "                    \"nl\": list(),\n",
    "                }\n",
    "\n",
    "            _report[token][\"pl\"].append(importance[1])\n",
    "            _report[token][\"nl\"].append(importance[0])\n",
    "\n",
    "    # Calculate the metric for each token and store them in a list of tuples\n",
    "    pl_metrics, nl_metrics = [], []\n",
    "    for token, values in _report.items():\n",
    "        pl_metrics.append((token, metric_function(values[\"pl\"])))\n",
    "        nl_metrics.append((token, metric_function(values[\"nl\"])))\n",
    "\n",
    "    # Sort the list of tuples by the metric value\n",
    "    pl_metrics = sorted(pl_metrics, key=lambda x: x[1], reverse=True)\n",
    "    nl_metrics = sorted(nl_metrics, key=lambda x: x[1], reverse=True)\n",
    "\n",
    "    if split:\n",
    "        pl_metrics = pl_metrics[:NUMBER_OF_IMPORTANT_BAR]\n",
    "        nl_metrics = nl_metrics[:NUMBER_OF_IMPORTANT_BAR]\n",
    "\n",
    "    return {\n",
    "        \"pl\": pl_metrics,\n",
    "        \"nl\": nl_metrics,\n",
    "    }\n"
   ],
   "metadata": {
    "collapsed": false
   }
  },
  {
   "cell_type": "code",
   "execution_count": null,
   "outputs": [],
   "source": [
    "def get_most_popular(report: dict, n=2):\n",
    "    _report = {\n",
    "        \"predict\": dict(),\n",
    "        \"true\": dict(),\n",
    "        \"at_all\": dict(),\n",
    "    }\n",
    "    for pred, true, importance, tokens in zip(\n",
    "        report[\"predicted_label\"],\n",
    "        report[\"true_label\"],\n",
    "        report[\"importance\"],\n",
    "        report[\"tokens\"]\n",
    "    ):\n",
    "\n",
    "        _iter_pred = zip(np.array(tokens), importance[pred])\n",
    "        data_pred = sorted([(token, importance) for token, importance in _iter_pred],\n",
    "                           key= lambda x: x[1],\n",
    "                           reverse=True)\n",
    "        data_pred = data_pred[:n]\n",
    "\n",
    "        if pred==true:\n",
    "            data_true = data_pred.copy()\n",
    "            data_all = data_pred.copy()\n",
    "        else:\n",
    "            _iter_true = zip(np.array(tokens), importance[true])\n",
    "            data_true = sorted([(token, importance) for token, importance in _iter_true],\n",
    "                               key= lambda x: x[1],\n",
    "                               reverse=True)\n",
    "            data_true = data_true[:n]\n",
    "\n",
    "            data_all = sorted(data_true + data_pred,\n",
    "                              key= lambda x: x[1],\n",
    "                              reverse=True)\n",
    "            data_all = data_all[:n]\n",
    "\n",
    "        for p, t, a in zip(data_pred, data_true, data_all):\n",
    "            if p[1] > 0:\n",
    "                _report[\"predict\"][p[0]] = _report[\"predict\"].get(p[0], 0) + 1\n",
    "            if t[1] > 0:\n",
    "                _report[\"true\"][t[0]] = _report[\"true\"].get(t[0], 0) + 1\n",
    "            if a[1] > 0:\n",
    "                _report[\"at_all\"][a[0]] = _report[\"at_all\"].get(a[0], 0) + 1\n",
    "\n",
    "    return {\n",
    "        \"predict\": sorted(_report[\"predict\"].items(), key=lambda x: x[1], reverse=True)[:n],\n",
    "        \"true\": sorted(_report[\"true\"].items(), key=lambda x: x[1], reverse=True)[:n],\n",
    "        \"at_all\": sorted(_report[\"at_all\"].items(), key=lambda x: x[1], reverse=True)[:n],\n",
    "    }\n"
   ],
   "metadata": {
    "collapsed": false
   }
  },
  {
   "cell_type": "code",
   "execution_count": null,
   "outputs": [],
   "source": [
    "def read_report(path):\n",
    "    report = np.load(path, allow_pickle=True).item()\n",
    "    report[\"tokens\"] = [[token.replace('##', '').replace('Ġ', '') for token in tokens ]for tokens in report[\"tokens\"]]\n",
    "    return report\n"
   ],
   "metadata": {
    "collapsed": false
   }
  },
  {
   "cell_type": "markdown",
   "source": [
    "# Analysis"
   ],
   "metadata": {
    "collapsed": false,
    "ExecuteTime": {
     "end_time": "2023-09-17T20:34:41.462280Z",
     "start_time": "2023-09-17T20:34:41.424933Z"
    }
   },
   "outputs": [],
   "execution_count": 35
  },
  {
   "cell_type": "code",
   "execution_count": null,
   "outputs": [],
   "source": [
    "BASE_PATH = \".\"\n",
    "DATASET_NAME = \"sst2\"\n",
    "EXPERIMENTS_PATH = os.path.join(BASE_PATH, DATASET_NAME)\n",
    "\n",
    "FILES = find_files(EXPERIMENTS_PATH, \".npy\")\n",
    "\n",
    "NUMBER_OF_IMPORTANT_WC = 300\n",
    "NUMBER_OF_IMPORTANT_BAR = 15\n",
    "\n",
    "DEMO = True"
   ],
   "metadata": {
    "collapsed": false
   }
  },
  {
   "cell_type": "code",
   "execution_count": null,
   "outputs": [],
   "source": [
    "reports = {\n",
    "    file.split('.')[0]: read_report(os.path.join(EXPERIMENTS_PATH, file)) for file in FILES\n",
    "}"
   ],
   "metadata": {
    "collapsed": false
   }
  },
  {
   "cell_type": "markdown",
   "source": [
    "## Word cloud"
   ],
   "metadata": {
    "collapsed": false,
    "ExecuteTime": {
     "end_time": "2023-09-17T20:34:41.462551Z",
     "start_time": "2023-09-17T20:34:41.430765Z"
    }
   },
   "outputs": [],
   "execution_count": 37
  },
  {
   "cell_type": "markdown",
   "source": [
    "### Most important"
   ],
   "metadata": {
    "collapsed": false,
    "ExecuteTime": {
     "end_time": "2023-09-17T20:34:41.471676Z",
     "start_time": "2023-09-17T20:34:41.433301Z"
    }
   },
   "outputs": [],
   "execution_count": 38
  },
  {
   "cell_type": "code",
   "execution_count": null,
   "outputs": [],
   "source": [
    "save_wc_path = os.path.join(EXPERIMENTS_PATH, \"most_important\")\n",
    "if os.path.exists(save_wc_path):\n",
    "    print(\"Path already exists\")\n",
    "else:\n",
    "    os.mkdir(save_wc_path)\n",
    "    print(\"Path created\")"
   ],
   "metadata": {
    "collapsed": false
   }
  },
  {
   "cell_type": "code",
   "execution_count": null,
   "outputs": [],
   "source": [
    "for exp_name, report in reports.items():\n",
    "    rep_imp = get_most_impacting(report, n=NUMBER_OF_IMPORTANT_WC)\n",
    "    _name = f\"{exp_name}_imp.png\"\n",
    "    path = os.path.join(save_wc_path, _name)\n",
    "    fig, axs = plt.subplots(1, len(rep_imp), figsize=(4*len(rep_imp), 4))\n",
    "    for i, k in enumerate(rep_imp.keys()):\n",
    "        wordcloud = WordCloud(width=800, height=800, background_color=\"white\")\n",
    "        wordcloud.generate_from_frequencies(dict(rep_imp[k]))\n",
    "\n",
    "        axs[i].imshow(wordcloud, interpolation=\"bilinear\")\n",
    "        axs[i].axis(\"off\")\n",
    "\n",
    "        axs[i].set_title(k)\n",
    "\n",
    "    fig.suptitle(exp_name, fontsize=16)\n",
    "    plt.tight_layout(pad=1.0)\n",
    "    if DEMO:\n",
    "        plt.show()\n",
    "    else:\n",
    "        plt.savefig(path, format=\"png\")\n",
    "    plt.close()"
   ],
   "metadata": {
    "collapsed": false
   }
  },
  {
   "cell_type": "code",
   "execution_count": null,
   "outputs": [],
   "source": [
    "for exp_name, report in reports.items():\n",
    "    rep_imp = get_most_impacting(report, n=NUMBER_OF_IMPORTANT_BAR)\n",
    "    _name = f\"{exp_name}_imp_bar.png\"\n",
    "    path = os.path.join(save_wc_path, _name)\n",
    "    fig, axs = plt.subplots(1, len(rep_imp), figsize=(6*len(rep_imp), 6))\n",
    "\n",
    "    for i, k in enumerate(rep_imp.keys()):\n",
    "\n",
    "        tokens = [item[0] for item in rep_imp[k]]\n",
    "        freqs = [item[1] for item in rep_imp[k]]\n",
    "\n",
    "        axs[i].bar(tokens, freqs)\n",
    "        axs[i].set_title(k)\n",
    "        axs[i].set_xticklabels(tokens, rotation=90, ha='center')\n",
    "\n",
    "\n",
    "        axs[i].set_title(k)\n",
    "\n",
    "    fig.suptitle(exp_name, fontsize=16)\n",
    "    plt.tight_layout(pad=1.0)\n",
    "    if DEMO:\n",
    "        plt.show()\n",
    "    else:\n",
    "        plt.savefig(path, format=\"png\")\n",
    "    plt.close()\n"
   ],
   "metadata": {
    "collapsed": false
   }
  },
  {
   "cell_type": "markdown",
   "source": [
    "### Most popular"
   ],
   "metadata": {
    "collapsed": false,
    "ExecuteTime": {
     "end_time": "2023-09-17T20:34:49.421648Z",
     "start_time": "2023-09-17T20:34:41.479916Z"
    }
   },
   "outputs": [],
   "execution_count": 40
  },
  {
   "cell_type": "code",
   "execution_count": null,
   "outputs": [],
   "source": [
    "save_mp_path = os.path.join(EXPERIMENTS_PATH, \"most_popular\")\n",
    "if os.path.exists(save_mp_path):\n",
    "    print(\"Path already exists\")\n",
    "else:\n",
    "    os.mkdir(save_mp_path)\n",
    "    print(\"Path created\")"
   ],
   "metadata": {
    "collapsed": false
   }
  },
  {
   "cell_type": "code",
   "execution_count": null,
   "outputs": [],
   "source": [
    "for exp_name, report in reports.items():\n",
    "    rep_mp = get_most_popular(report, n=NUMBER_OF_IMPORTANT_WC)\n",
    "    _name = f\"{exp_name}_mp.png\"\n",
    "    path = os.path.join(save_mp_path, _name)\n",
    "    fig, axs = plt.subplots(1, len(rep_mp), figsize=(4*len(rep_mp), 4))\n",
    "    for i, k in enumerate(rep_mp.keys()):\n",
    "        wordcloud = WordCloud(width=800, height=800, background_color=\"white\")\n",
    "        wordcloud.generate_from_frequencies(dict(rep_mp[k]))\n",
    "\n",
    "        axs[i].imshow(wordcloud, interpolation=\"bilinear\")\n",
    "        axs[i].axis(\"off\")\n",
    "\n",
    "        axs[i].set_title(k)\n",
    "\n",
    "    fig.suptitle(exp_name, fontsize=16)\n",
    "    plt.tight_layout(pad=1.0)\n",
    "    if DEMO:\n",
    "        plt.show()\n",
    "    else:\n",
    "        plt.savefig(path, format=\"png\")\n",
    "    plt.close()\n"
   ],
   "metadata": {
    "collapsed": false
   }
  },
  {
   "cell_type": "markdown",
   "source": [],
   "metadata": {
    "collapsed": false,
    "ExecuteTime": {
     "end_time": "2023-09-17T20:34:50.318546Z",
     "start_time": "2023-09-17T20:34:50.317294Z"
    }
   },
   "outputs": [
    {
     "name": "stdout",
     "output_type": "stream",
     "text": [
      "Path already exists\n"
     ]
    }
   ],
   "execution_count": 42
  },
  {
   "cell_type": "markdown",
   "source": [
    "## for particular set of tokens"
   ],
   "metadata": {
    "collapsed": false,
    "ExecuteTime": {
     "end_time": "2023-09-17T20:34:57.870737Z",
     "start_time": "2023-09-17T20:34:50.343704Z"
    }
   },
   "outputs": [],
   "execution_count": 43
  },
  {
   "cell_type": "code",
   "execution_count": null,
   "outputs": [],
   "source": [
    "EXP_and_NAME = {\n",
    "    # \"true positive\": 'tp',\n",
    "    # \"true negative\": 'tn',\n",
    "    # \"false positive\": 'fp',\n",
    "    # \"false negative\": 'fn',\n",
    "    # \"positive predicted\": 'tp+fp',\n",
    "    # \"negative predicted\": 'tn+fn',\n",
    "    \"real positive\": 'tp+fn',\n",
    "    \"real negative\": 'tn+fp',\n",
    "    \"effect on positivity\": \"pl\",\n",
    "    \"effect on negativity\": \"nl\",\n",
    "}"
   ],
   "metadata": {
    "collapsed": false
   }
  },
  {
   "cell_type": "code",
   "execution_count": null,
   "outputs": [],
   "source": [
    "save_mp_path = os.path.join(EXPERIMENTS_PATH, \"token effect\")\n",
    "if os.path.exists(save_mp_path):\n",
    "    print(\"Path already exists\")\n",
    "else:\n",
    "    os.mkdir(save_mp_path)\n",
    "    print(\"Path created\")"
   ],
   "metadata": {
    "collapsed": false
   }
  },
  {
   "cell_type": "code",
   "execution_count": null,
   "outputs": [],
   "source": [
    "token_group_set = [\n",
    "    (\"punctuation\", list(string.punctuation)),\n",
    "    (\"neutral tokens\", [\"a\", \"an\", \"what\", \"the\", \"you\", \"one\", \"it\", \"this\", \"movie\", \"i\", \"with\", \"if\"]),\n",
    "    ('multy type', [\n",
    "        \"respect\", \"impact\", \"loved\"\n",
    "        \"a\", \"an\", \"the\", \"one\", \"it\", \"this\",\n",
    "        \".\", \":\", \";\", \"(\", \")\", \"?\",\n",
    "        \"killing\", \"stupid\",\n",
    "    ])\n",
    "]\n"
   ],
   "metadata": {
    "collapsed": false
   }
  },
  {
   "cell_type": "code",
   "execution_count": null,
   "outputs": [],
   "source": [
    "for token_group, token_set in token_group_set:\n",
    "    _save_mp_path = os.path.join(save_mp_path, token_group)\n",
    "    if not os.path.exists(_save_mp_path):\n",
    "        os.mkdir(_save_mp_path)\n",
    "        print(\"Path created\")\n",
    "\n",
    "    for exp_name, report in reports.items():\n",
    "        rep_mp = get_importance(report, d_tokens=token_set)\n",
    "        _name = f\"{exp_name}_{token_group}.png\"\n",
    "        path = os.path.join(_save_mp_path, _name)\n",
    "        fig, axs = plt.subplots(len(EXP_and_NAME)//2, 2, figsize=(14, 4*len(EXP_and_NAME)))\n",
    "\n",
    "        for idx, exp in enumerate(EXP_and_NAME.keys()):\n",
    "            i,j = idx//2, idx%2\n",
    "            label_list = list(str(EXP_and_NAME[exp]).split('+'))\n",
    "            temp_dict = dict()\n",
    "            for ts in token_set:\n",
    "                for l in label_list:\n",
    "                    if rep_mp[ts][l]:\n",
    "                        temp_dict[ts] = list(temp_dict.get(ts, [])) + list(rep_mp[ts][l])\n",
    "\n",
    "            axs[i][j].boxplot(temp_dict.values(), labels=temp_dict.keys())\n",
    "            axs[i][j].set_title(exp)\n",
    "\n",
    "        fig.suptitle(exp_name, fontsize=16)\n",
    "        plt.tight_layout(pad=1.0)\n",
    "        if DEMO:\n",
    "            plt.show()\n",
    "        else:\n",
    "            plt.savefig(path, format=\"png\")\n",
    "        plt.close()"
   ],
   "metadata": {
    "collapsed": false
   }
  },
  {
   "cell_type": "markdown",
   "source": [
    "In this section, we would get importance with 'get_importance' function and then for [pl, nl], we would calculate mean for each token and plot 'NUMBER_OF_IMPORTANT_BAR' bar with most impact on that label"
   ],
   "metadata": {
    "collapsed": false,
    "ExecuteTime": {
     "end_time": "2023-09-17T20:34:57.880555Z",
     "start_time": "2023-09-17T20:34:57.879218Z"
    }
   },
   "outputs": [],
   "execution_count": 46
  },
  {
   "cell_type": "code",
   "execution_count": null,
   "outputs": [],
   "source": [
    "_save_path = os.path.join(save_mp_path, \"most important aggregated\")\n",
    "if not os.path.exists(_save_path):\n",
    "    os.mkdir(_save_path)\n",
    "    print(\"Path created\")\n",
    "\n",
    "for exp_name, report in reports.items():\n",
    "    rep_mp = get_importance_all(report, metric_function=np.mean)\n",
    "    _name = f\"{exp_name}_aggr_bar.png\"\n",
    "    path = os.path.join(_save_path, _name)\n",
    "    fig, axs = plt.subplots(1, len(rep_mp), figsize=(6*len(rep_mp), 6))\n",
    "\n",
    "    for i, k in enumerate(rep_mp.keys()):\n",
    "        tokens = [item[0] for item in rep_mp[k]]\n",
    "        freqs = [item[1] for item in rep_mp[k]]\n",
    "\n",
    "        axs[i].bar(tokens, freqs)\n",
    "        axs[i].set_title(k)\n",
    "        axs[i].set_xticklabels(tokens, rotation=90, ha='center')\n",
    "\n",
    "        axs[i].set_title(k)\n",
    "\n",
    "    fig.suptitle(exp_name, fontsize=16)\n",
    "    plt.tight_layout(pad=1.0)\n",
    "    if DEMO:\n",
    "        plt.show()\n",
    "    else:\n",
    "        plt.savefig(path, format=\"png\")\n",
    "    plt.close()\n"
   ],
   "metadata": {
    "collapsed": false
   }
  },
  {
   "cell_type": "markdown",
   "source": [
    "## generate [token-mean-variance] dataset"
   ],
   "metadata": {
    "collapsed": false
   }
  },
  {
   "cell_type": "code",
   "execution_count": null,
   "outputs": [],
   "source": [
    "from IPython.display import display, HTML\n",
    "from pandas.plotting import table\n",
    "\n",
    "_trends_path = os.path.join(save_mp_path, \"trends\")\n",
    "_save_path = _trends_path\n",
    "if not os.path.exists(_trends_path):\n",
    "    os.mkdir(_trends_path)\n",
    "    print(\"Path created\")\n",
    "\n",
    "for exp_name, report in reports.items():\n",
    "    rep_mp = get_importance_all(\n",
    "        report,\n",
    "        metric_function=np.mean,\n",
    "        split=False\n",
    "    )\n",
    "    rep_vp = get_importance_all(\n",
    "        report,\n",
    "        metric_function=np.var,\n",
    "        split=False\n",
    "    )\n",
    "    rep_cp = get_importance_all(\n",
    "        report,\n",
    "        metric_function=len,\n",
    "        split=False\n",
    "    )\n",
    "    _name = f\"{exp_name}.csv\"\n",
    "    path = os.path.join(_trends_path, _name)\n",
    "    img_path = os.path.join(_trends_path, exp_name + \"-desc.png\")\n",
    "\n",
    "    tokens = [token for token, _ in rep_mp['pl']]\n",
    "    data = [\n",
    "        {\"token\": token, \"mean0\": 0, \"mean1\": 0, \"variance0\": 0, \"variance1\": 0, \"count\": 0} \\\n",
    "        for token in tokens\n",
    "    ]\n",
    "\n",
    "    for mm1, vv1, mm0, vv0, cc in zip(rep_mp[\"pl\"], rep_vp[\"pl\"], rep_mp[\"nl\"], rep_vp[\"nl\"], rep_cp[\"pl\"]):\n",
    "        idx_v = tokens.index(vv1[0])\n",
    "        idx_m = tokens.index(mm1[0])\n",
    "        data[idx_v][\"variance1\"] = vv1[1]\n",
    "        data[idx_m][\"mean1\"] = mm1[1]\n",
    "        idx_v = tokens.index(vv0[0])\n",
    "        idx_m = tokens.index(mm0[0])\n",
    "        data[idx_v][\"variance0\"] = vv0[1]\n",
    "        data[idx_m][\"mean0\"] = mm0[1]\n",
    "        idx_c = tokens.index(cc[0])\n",
    "        data[idx_c][\"count\"] = cc[1]\n",
    "\n",
    "\n",
    "    df = pd.DataFrame(data)\n",
    "\n",
    "    fig, ax = plt.subplots(figsize=(4, 3))\n",
    "    ax.axis('off')\n",
    "    table(ax, df.describe(), loc='center')\n",
    "\n",
    "    if DEMO:\n",
    "        print(exp_name)\n",
    "        display((df.describe()))\n",
    "        # display(HTML(df.to_html(index=False)))\n",
    "    else:\n",
    "        df.to_csv(path, index=False)\n",
    "        plt.savefig(img_path, dpi=300, bbox_inches='tight')\n",
    "        plt.close()\n"
   ],
   "metadata": {
    "collapsed": false
   }
  },
  {
   "cell_type": "markdown",
   "source": [
    "### Tokens with zero variance"
   ],
   "metadata": {
    "collapsed": false
   }
  },
  {
   "cell_type": "code",
   "execution_count": null,
   "outputs": [],
   "source": [
    "DEMO = False"
   ],
   "metadata": {
    "collapsed": false
   }
  },
  {
   "cell_type": "code",
   "execution_count": null,
   "outputs": [],
   "source": [
    "trends_db_files = sorted(find_files(_trends_path, '.csv'))\n",
    "threshold = 1e-2\n",
    "sut = [\"variance\", \"mean\"][0]\n",
    "N_time_token = 10  # tokens appeared less-equal of this\n",
    "\n",
    "zero_vars: dict[set] = {}\n",
    "all_token_count = 0\n",
    "\n",
    "for dbf in trends_db_files:\n",
    "    name = os.path.splitext(dbf)[0]\n",
    "\n",
    "    df = pd.read_csv(os.path.join(_trends_path, dbf))\n",
    "    all_token_count = max(all_token_count, len(df))\n",
    "    df = df[(df[f'{sut}0'] <= threshold) & (df[f'{sut}1'] <= threshold)]  # TODO: fix in to work for mean\n",
    "    df.drop(columns=[f'{sut}0', f'{sut}1'], inplace=True)\n",
    "\n",
    "    tokens = set(df[\"token\"])\n",
    "    zero_vars[name] = tokens"
   ],
   "metadata": {
    "collapsed": false
   }
  },
  {
   "cell_type": "code",
   "execution_count": null,
   "outputs": [],
   "source": [
    "import json\n",
    "\n",
    "sets_name = sorted(list(zero_vars.keys()))\n",
    "df = [{\"set\": set_name, \"new inserts\": len(zero_vars[set_name]), \"deleted\": 0, \"total\": len(zero_vars[set_name]), \"N times\": 0} for set_name in sets_name]\n",
    "\n",
    "ntc, curr = 0, sets_name[0]\n",
    "_df = pd.read_csv(os.path.join(_trends_path, curr + \".csv\"))\n",
    "for tok in zero_vars[curr]:\n",
    "    msk = _df[\"token\"] == tok\n",
    "    if sum(msk) == 0:\n",
    "        continue\n",
    "    count = int(_df[msk][\"count\"])\n",
    "    if count <= N_time_token:\n",
    "        ntc += 1\n",
    "df[0][\"N times\"] = ntc\n",
    "\n",
    "changes_dataset = {\n",
    "    \"epoch 0\" : {\n",
    "        \"added\": list(zero_vars[sets_name[0]]),\n",
    "        \"deleted\": []\n",
    "    },\n",
    "}\n",
    "always_exists = zero_vars[sets_name[0]]\n",
    "\n",
    "for idx, (prev, curr) in enumerate(zip(sets_name[:-1], sets_name[1:]), start=1):\n",
    "    intersects = zero_vars[prev].intersection(zero_vars[curr])\n",
    "    # common_count = len(list(intersects))\n",
    "    deleted = zero_vars[prev] - intersects\n",
    "    added = zero_vars[curr] - intersects\n",
    "    always_exists = always_exists.intersection(zero_vars[curr])\n",
    "\n",
    "    epoch = f\"epoch {idx}\"\n",
    "    changes_dataset[epoch] = {\n",
    "        \"added\": list(added),\n",
    "        \"deleted\": list(deleted),\n",
    "    }\n",
    "\n",
    "    df[idx][\"new inserts\"] = len(list(added))\n",
    "    df[idx][\"deleted\"] = len(list(deleted))\n",
    "\n",
    "    ntc = 0\n",
    "    _df = pd.read_csv(os.path.join(_trends_path, curr + \".csv\"))\n",
    "    for tok in zero_vars[curr]:\n",
    "        msk = _df[\"token\"] == tok\n",
    "        if sum(msk) == 0:\n",
    "            continue\n",
    "        count = int(_df[msk][\"count\"])\n",
    "        if count <= N_time_token:\n",
    "            ntc += 1\n",
    "    df[idx][\"N times\"] = ntc\n",
    "\n",
    "always_exists = list(always_exists)\n",
    "changes_dataset[\"always exists\"] = always_exists\n",
    "df = pd.DataFrame(df)\n",
    "\n",
    "log_path = os.path.join(_trends_path, f\"log_{sut}.png\")\n",
    "change_data_path = os.path.join(_trends_path, f\"token_changes_{sut}.json\")\n",
    "\n",
    "always_exists_count = len(always_exists)\n",
    "ae_prompt = f\"#Common tokens = {always_exists_count} of {all_token_count} ({(100*always_exists_count/all_token_count):.1f}%)\"\n",
    "\n",
    "if DEMO:\n",
    "    display(HTML(df.to_html(index=False)))\n",
    "    print(ae_prompt)\n",
    "else:\n",
    "    fig, ax = plt.subplots(figsize=(6, 2))\n",
    "    ax.axis('off')\n",
    "    plt.title(f\"Token trends during tuning (threshold = {threshold}, {sut}, N={N_time_token})\")\n",
    "    plt.figtext(0.5, 0.01, ae_prompt, ha=\"center\", fontsize=10, bbox={\"facecolor\":\"blue\", \"alpha\":0.2, \"pad\":2})\n",
    "    table(ax, df, loc='center')\n",
    "    plt.savefig(log_path, dpi=300, bbox_inches='tight')\n",
    "    plt.close()\n",
    "\n",
    "    with open(change_data_path, 'w') as f:\n",
    "        json.dump(changes_dataset, f, indent=4)\n"
   ],
   "metadata": {
    "collapsed": false
   }
  },
  {
   "cell_type": "markdown",
   "source": [
    "### Most effective tokens set trend"
   ],
   "metadata": {
    "collapsed": false
   }
  },
  {
   "cell_type": "code",
   "execution_count": null,
   "outputs": [],
   "source": [
    "trends_db_files = sorted(find_files(_trends_path, '.csv'))\n",
    "proportion = 0.1\n",
    "N_time_token = 10  # tokens appeared less-equal of this\n",
    "\n",
    "highest_scores: dict[set] = {}\n",
    "all_token_count = 0\n",
    "\n",
    "for dbf in trends_db_files:\n",
    "    name = os.path.splitext(dbf)[0]\n",
    "\n",
    "    df = pd.read_csv(os.path.join(_trends_path, dbf))\n",
    "    all_token_count = max(all_token_count, len(df))\n",
    "    desired_df_split = int(len(df) * proportion)\n",
    "    lowest_sorted_0 = (df['mean0'].sort_values(ascending=False).values)[desired_df_split]\n",
    "    lowest_sorted_1 = (df['mean1'].sort_values(ascending=False).values)[desired_df_split]\n",
    "    df = df[(df['mean0'] >= lowest_sorted_0) | (df['mean1'] >= lowest_sorted_1)]\n",
    "\n",
    "    df.drop(columns=['variance0', 'variance1'], inplace=True)\n",
    "\n",
    "    tokens = set(df[\"token\"])\n",
    "    highest_scores[name] = tokens"
   ],
   "metadata": {
    "collapsed": false
   }
  },
  {
   "cell_type": "code",
   "execution_count": 24,
   "outputs": [],
   "source": [
    "import json\n",
    "\n",
    "sets_name = sorted(list(highest_scores.keys()))\n",
    "df = [{\"set\": set_name, \"new inserts\": len(highest_scores[set_name]), \"deleted\": 0, \"total\": len(highest_scores[set_name]), \"N times\": 0} for set_name in sets_name]\n",
    "\n",
    "ntc, curr = 0, sets_name[0]\n",
    "_df = pd.read_csv(os.path.join(_trends_path, curr + \".csv\"))\n",
    "for tok in highest_scores[curr]:\n",
    "    msk = (_df[\"token\"] == tok)\n",
    "    if sum(msk) == 0:\n",
    "        continue\n",
    "    count = int(_df[msk][\"count\"])\n",
    "    if count <= N_time_token:\n",
    "        ntc += 1\n",
    "df[0][\"N times\"] = ntc\n",
    "\n",
    "changes_dataset = {\n",
    "    \"epoch 0\" : {\n",
    "        \"added\": list(highest_scores[sets_name[0]]),\n",
    "        \"deleted\": []\n",
    "    },\n",
    "}\n",
    "always_exists = highest_scores[sets_name[0]]\n",
    "\n",
    "for idx, (prev, curr) in enumerate(zip(sets_name[:-1], sets_name[1:]), start=1):\n",
    "    intersects = highest_scores[prev].intersection(highest_scores[curr])\n",
    "    # common_count = len(list(intersects))\n",
    "    deleted = highest_scores[prev] - intersects\n",
    "    added = highest_scores[curr] - intersects\n",
    "    always_exists = always_exists.intersection(highest_scores[curr])\n",
    "\n",
    "    epoch = f\"epoch {idx}\"\n",
    "    changes_dataset[epoch] = {\n",
    "        \"added\": list(added),\n",
    "        \"deleted\": list(deleted),\n",
    "    }\n",
    "\n",
    "    df[idx][\"new inserts\"] = len(list(added))\n",
    "    df[idx][\"deleted\"] = len(list(deleted))\n",
    "\n",
    "    ntc = 0\n",
    "    _df = pd.read_csv(os.path.join(_trends_path, curr + \".csv\"))\n",
    "    for tok in zero_vars[curr]:\n",
    "        msk = _df[\"token\"] == tok\n",
    "        if sum(msk) == 0:\n",
    "            continue\n",
    "        count = int(_df[msk][\"count\"])\n",
    "        if count <= N_time_token:\n",
    "            ntc += 1\n",
    "    df[idx][\"N times\"] = ntc\n",
    "\n",
    "always_exists = list(always_exists)\n",
    "changes_dataset[\"always exists\"] = always_exists\n",
    "df = pd.DataFrame(df)\n",
    "\n",
    "log_path = os.path.join(_trends_path, f\"log_highest_scores_{proportion}.png\")\n",
    "change_data_path = os.path.join(_trends_path, f\"token_changes_highest_scores_{proportion}.json\")\n",
    "\n",
    "always_exists_count = len(always_exists)\n",
    "ae_prompt = f\"#Common tokens = {always_exists_count} of {all_token_count} ({(100*always_exists_count/all_token_count):.1f}%)\"\n",
    "\n",
    "if DEMO:\n",
    "    display(HTML(df.to_html(index=False)))\n",
    "    print(ae_prompt)\n",
    "else:\n",
    "    fig, ax = plt.subplots(figsize=(6, 2))\n",
    "    ax.axis('off')\n",
    "    plt.title(f\"Token with Highest scores during tuning (proportion = {proportion}, N={N_time_token})\")\n",
    "    plt.figtext(0.5, 0.01, ae_prompt, ha=\"center\", fontsize=10, bbox={\"facecolor\":\"blue\", \"alpha\":0.2, \"pad\":2})\n",
    "    table(ax, df, loc='center')\n",
    "    plt.savefig(log_path, dpi=300, bbox_inches='tight')\n",
    "    plt.close()\n",
    "\n",
    "    with open(change_data_path, 'w') as f:\n",
    "        json.dump(changes_dataset, f, indent=4)\n"
   ],
   "metadata": {
    "collapsed": false
   }
  }
 ],
 "metadata": {
  "kernelspec": {
   "display_name": "Python 3",
   "language": "python",
   "name": "python3"
  },
  "language_info": {
   "codemirror_mode": {
    "name": "ipython",
    "version": 2
   },
   "file_extension": ".py",
   "mimetype": "text/x-python",
   "name": "python",
   "nbconvert_exporter": "python",
   "pygments_lexer": "ipython2",
   "version": "2.7.6"
  }
 },
 "nbformat": 4,
 "nbformat_minor": 0
}
